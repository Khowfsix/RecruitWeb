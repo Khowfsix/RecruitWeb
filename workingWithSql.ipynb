{
    "metadata": {
        "kernelspec": {
            "name": "SQL",
            "display_name": "SQL",
            "language": "sql"
        },
        "language_info": {
            "name": "sql",
            "version": ""
        }
    },
    "nbformat_minor": 2,
    "nbformat": 4,
    "cells": [
        {
            "cell_type": "markdown",
            "source": [
                "# Get role and user"
            ],
            "metadata": {
                "azdata_cell_guid": "51373612-ed3c-4e09-b9f9-3f371b9ea2a7"
            },
            "attachments": {}
        },
        {
            "cell_type": "code",
            "source": [
                "select *\r\n",
                "from RecruitmentWeb.dbo.AspNetRoles\r\n",
                "select *\r\n",
                "from RecruitmentWeb.dbo.AspNetUsers"
            ],
            "metadata": {
                "azdata_cell_guid": "abb87fc8-9eaf-42cf-8478-897cfb8e9939",
                "language": "sql",
                "tags": []
            },
            "outputs": [
                {
                    "output_type": "display_data",
                    "data": {
                        "text/html": "(4 rows affected)"
                    },
                    "metadata": {}
                },
                {
                    "output_type": "display_data",
                    "data": {
                        "text/html": "(2 rows affected)"
                    },
                    "metadata": {}
                },
                {
                    "output_type": "display_data",
                    "data": {
                        "text/html": "Total execution time: 00:00:00.130"
                    },
                    "metadata": {}
                },
                {
                    "output_type": "execute_result",
                    "metadata": {},
                    "execution_count": 1,
                    "data": {
                        "application/vnd.dataresource+json": {
                            "schema": {
                                "fields": [
                                    {
                                        "name": "Id"
                                    },
                                    {
                                        "name": "Name"
                                    },
                                    {
                                        "name": "NormalizedName"
                                    },
                                    {
                                        "name": "ConcurrencyStamp"
                                    }
                                ]
                            },
                            "data": [
                                {
                                    "Id": "5d1008c0-158b-435c-a216-6394681519d0",
                                    "Name": "Interviewer",
                                    "NormalizedName": "Interviewer",
                                    "ConcurrencyStamp": "2"
                                },
                                {
                                    "Id": "9c740272-34ff-4ce2-9133-f87f71ddaa5f",
                                    "Name": "Admin",
                                    "NormalizedName": "Admin",
                                    "ConcurrencyStamp": "4"
                                },
                                {
                                    "Id": "f48abb9e-227d-4d4c-957c-6087dab29d00",
                                    "Name": "Candidate",
                                    "NormalizedName": "Candidate",
                                    "ConcurrencyStamp": "1"
                                },
                                {
                                    "Id": "fe76bbf9-957c-48f4-b52c-08cfcf25de63",
                                    "Name": "Recruiter",
                                    "NormalizedName": "Recruiter",
                                    "ConcurrencyStamp": "3"
                                }
                            ]
                        },
                        "text/html": [
                            "<table>",
                            "<tr><th>Id</th><th>Name</th><th>NormalizedName</th><th>ConcurrencyStamp</th></tr>",
                            "<tr><td>5d1008c0-158b-435c-a216-6394681519d0</td><td>Interviewer</td><td>Interviewer</td><td>2</td></tr>",
                            "<tr><td>9c740272-34ff-4ce2-9133-f87f71ddaa5f</td><td>Admin</td><td>Admin</td><td>4</td></tr>",
                            "<tr><td>f48abb9e-227d-4d4c-957c-6087dab29d00</td><td>Candidate</td><td>Candidate</td><td>1</td></tr>",
                            "<tr><td>fe76bbf9-957c-48f4-b52c-08cfcf25de63</td><td>Recruiter</td><td>Recruiter</td><td>3</td></tr>",
                            "</table>"
                        ]
                    }
                },
                {
                    "output_type": "execute_result",
                    "metadata": {},
                    "execution_count": 1,
                    "data": {
                        "application/vnd.dataresource+json": {
                            "schema": {
                                "fields": [
                                    {
                                        "name": "Id"
                                    },
                                    {
                                        "name": "Discriminator"
                                    },
                                    {
                                        "name": "FullName"
                                    },
                                    {
                                        "name": "DateOfBirth"
                                    },
                                    {
                                        "name": "Address"
                                    },
                                    {
                                        "name": "ImageURL"
                                    },
                                    {
                                        "name": "UserName"
                                    },
                                    {
                                        "name": "NormalizedUserName"
                                    },
                                    {
                                        "name": "Email"
                                    },
                                    {
                                        "name": "NormalizedEmail"
                                    },
                                    {
                                        "name": "EmailConfirmed"
                                    },
                                    {
                                        "name": "PasswordHash"
                                    },
                                    {
                                        "name": "SecurityStamp"
                                    },
                                    {
                                        "name": "ConcurrencyStamp"
                                    },
                                    {
                                        "name": "PhoneNumber"
                                    },
                                    {
                                        "name": "PhoneNumberConfirmed"
                                    },
                                    {
                                        "name": "TwoFactorEnabled"
                                    },
                                    {
                                        "name": "LockoutEnd"
                                    },
                                    {
                                        "name": "LockoutEnabled"
                                    },
                                    {
                                        "name": "AccessFailedCount"
                                    }
                                ]
                            },
                            "data": [
                                {
                                    "Id": "0a83d50d-1c70-44ef-9f0c-da0cde344d5f",
                                    "Discriminator": "WebUser",
                                    "FullName": "ly hong phat",
                                    "DateOfBirth": "0001-01-01 00:00:00.0000000",
                                    "Address": "NULL",
                                    "ImageURL": "NULL",
                                    "UserName": "lyhongphat",
                                    "NormalizedUserName": "LYHONGPHAT",
                                    "Email": "lyhongphat261202@gmail.com",
                                    "NormalizedEmail": "LYHONGPHAT261202@GMAIL.COM",
                                    "EmailConfirmed": "0",
                                    "PasswordHash": "AQAAAAEAACcQAAAAEKdkng2tluFtkUu2o+ExSOvUi0kBHyf2s517D0nmsL/ZKkjMPNMlQ0O7MD6yxDlBdA==",
                                    "SecurityStamp": "4VMXWPNZBHFZSSSGWOZAYFOHH2E4FY6F",
                                    "ConcurrencyStamp": "464e6fd2-12e1-48d9-8e15-1e5a7797a4b7",
                                    "PhoneNumber": "NULL",
                                    "PhoneNumberConfirmed": "0",
                                    "TwoFactorEnabled": "0",
                                    "LockoutEnd": "NULL",
                                    "LockoutEnabled": "1",
                                    "AccessFailedCount": "0"
                                },
                                {
                                    "Id": "eff672e8-de96-4644-a37c-fe6956cdf516",
                                    "Discriminator": "WebUser",
                                    "FullName": "Jasmine Admin",
                                    "DateOfBirth": "0001-01-01 00:00:00.0000000",
                                    "Address": "NULL",
                                    "ImageURL": "NULL",
                                    "UserName": "AdmineJasmine",
                                    "NormalizedUserName": "ADMINEJASMINE",
                                    "Email": "Jasmineandhongphat@gmail.com",
                                    "NormalizedEmail": "JASMINEANDHONGPHAT@GMAIL.COM",
                                    "EmailConfirmed": "0",
                                    "PasswordHash": "AQAAAAEAACcQAAAAEC0+TgRo+wvAkisdzFIzc48ECvo2/GfV6ZxfKlyC2dWyXB/BpoI6KjSejHwNEnbinQ==",
                                    "SecurityStamp": "Q6HPOUFH6EJHNURZJAHCLAU7IMZYWWWI",
                                    "ConcurrencyStamp": "54271cd1-6a7d-4018-8631-458a6ee30115",
                                    "PhoneNumber": "NULL",
                                    "PhoneNumberConfirmed": "0",
                                    "TwoFactorEnabled": "0",
                                    "LockoutEnd": "NULL",
                                    "LockoutEnabled": "1",
                                    "AccessFailedCount": "0"
                                }
                            ]
                        },
                        "text/html": [
                            "<table>",
                            "<tr><th>Id</th><th>Discriminator</th><th>FullName</th><th>DateOfBirth</th><th>Address</th><th>ImageURL</th><th>UserName</th><th>NormalizedUserName</th><th>Email</th><th>NormalizedEmail</th><th>EmailConfirmed</th><th>PasswordHash</th><th>SecurityStamp</th><th>ConcurrencyStamp</th><th>PhoneNumber</th><th>PhoneNumberConfirmed</th><th>TwoFactorEnabled</th><th>LockoutEnd</th><th>LockoutEnabled</th><th>AccessFailedCount</th></tr>",
                            "<tr><td>0a83d50d-1c70-44ef-9f0c-da0cde344d5f</td><td>WebUser</td><td>ly hong phat</td><td>0001-01-01 00:00:00.0000000</td><td>NULL</td><td>NULL</td><td>lyhongphat</td><td>LYHONGPHAT</td><td>lyhongphat261202@gmail.com</td><td>LYHONGPHAT261202@GMAIL.COM</td><td>0</td><td>AQAAAAEAACcQAAAAEKdkng2tluFtkUu2o+ExSOvUi0kBHyf2s517D0nmsL/ZKkjMPNMlQ0O7MD6yxDlBdA==</td><td>4VMXWPNZBHFZSSSGWOZAYFOHH2E4FY6F</td><td>464e6fd2-12e1-48d9-8e15-1e5a7797a4b7</td><td>NULL</td><td>0</td><td>0</td><td>NULL</td><td>1</td><td>0</td></tr>",
                            "<tr><td>eff672e8-de96-4644-a37c-fe6956cdf516</td><td>WebUser</td><td>Jasmine Admin</td><td>0001-01-01 00:00:00.0000000</td><td>NULL</td><td>NULL</td><td>AdmineJasmine</td><td>ADMINEJASMINE</td><td>Jasmineandhongphat@gmail.com</td><td>JASMINEANDHONGPHAT@GMAIL.COM</td><td>0</td><td>AQAAAAEAACcQAAAAEC0+TgRo+wvAkisdzFIzc48ECvo2/GfV6ZxfKlyC2dWyXB/BpoI6KjSejHwNEnbinQ==</td><td>Q6HPOUFH6EJHNURZJAHCLAU7IMZYWWWI</td><td>54271cd1-6a7d-4018-8631-458a6ee30115</td><td>NULL</td><td>0</td><td>0</td><td>NULL</td><td>1</td><td>0</td></tr>",
                            "</table>"
                        ]
                    }
                }
            ],
            "execution_count": 1
        },
        {
            "cell_type": "markdown",
            "source": [
                "# Delete user LyHongPhat"
            ],
            "metadata": {
                "azdata_cell_guid": "a4aaa292-9852-4ef9-a9df-1870fc73c931"
            },
            "attachments": {}
        },
        {
            "cell_type": "code",
            "source": [
                "BEGIN TRANSACTION\r\n",
                "\r\n",
                "DECLARE @userid NVARCHAR(450)\r\n",
                "SELECT @userid=Id\r\n",
                "FROM dbo.AspNetUsers\r\n",
                "WHERE Email='lyhongphat261202@gmail.com'\r\n",
                "print @userid\r\n",
                "DELETE dbo.Candidate WHERE UserId=@userid\r\n",
                "DELETE dbo.AspNetUserRoles WHERE UserId=@userid\r\n",
                "DELETE dbo.AspNetUsers WHERE Id=@userid\r\n",
                "\r\n",
                "COMMIT TRANSACTION"
            ],
            "metadata": {
                "azdata_cell_guid": "7eb9a5f0-82bb-4087-b759-ef47c909c527",
                "language": "sql"
            },
            "outputs": [],
            "execution_count": null
        }
    ]
}